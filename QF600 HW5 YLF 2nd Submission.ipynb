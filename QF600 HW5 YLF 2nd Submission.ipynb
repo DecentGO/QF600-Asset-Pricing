{
 "cells": [
  {
   "cell_type": "markdown",
   "id": "ada707ba",
   "metadata": {},
   "source": [
    "# QF 600 Asset Pricing | YU Lingfeng\n",
    "## `Homework 5` | Stochastic Discount Factor"
   ]
  },
  {
   "cell_type": "markdown",
   "id": "013ccd62",
   "metadata": {},
   "source": [
    "### <font color = green> Activation of necessary libraries. </font>"
   ]
  },
  {
   "cell_type": "code",
   "execution_count": 1,
   "id": "8bbb12db",
   "metadata": {},
   "outputs": [],
   "source": [
    "# !pip install matplotlib\n",
    "# !pip install --upgrade openpyxl\n",
    "# !pip install nbconvert"
   ]
  },
  {
   "cell_type": "code",
   "execution_count": 2,
   "id": "b3c44e7b",
   "metadata": {},
   "outputs": [],
   "source": [
    "import pandas as pd\n",
    "import numpy as np\n",
    "import math\n",
    "import matplotlib.pyplot as plt\n",
    "from datetime import datetime\n",
    "\n",
    "from IPython.display import display\n",
    "from IPython.display import Image\n",
    "import random\n",
    "import warnings\n",
    "\n",
    "# Ignore all warnings (not recommended for production code)\n",
    "warnings.filterwarnings(\"ignore\")"
   ]
  },
  {
   "cell_type": "code",
   "execution_count": 3,
   "id": "cc3580bb",
   "metadata": {},
   "outputs": [],
   "source": [
    "num_samples = 10000"
   ]
  },
  {
   "cell_type": "code",
   "execution_count": 4,
   "id": "399b798e",
   "metadata": {},
   "outputs": [
    {
     "data": {
      "text/plain": [
       "-0.4307829160924542"
      ]
     },
     "execution_count": 4,
     "metadata": {},
     "output_type": "execute_result"
    }
   ],
   "source": [
    "np.log(0.65)"
   ]
  },
  {
   "cell_type": "code",
   "execution_count": 5,
   "id": "2e8c9006",
   "metadata": {},
   "outputs": [],
   "source": [
    "data = np.random.normal(0, 1, num_samples)\n",
    "v_uni = np.random.random(num_samples)\n",
    "v_dis = np.where(v_uni > 0.017, 0, np.log(0.65))"
   ]
  },
  {
   "cell_type": "code",
   "execution_count": 6,
   "id": "5fd03a24",
   "metadata": {},
   "outputs": [
    {
     "data": {
      "text/plain": [
       "(array([ 157.,    0.,    0.,    0., 9843.]),\n",
       " array([-0.43078292, -0.34462633, -0.25846975, -0.17231317, -0.08615658,\n",
       "         0.        ]),\n",
       " <BarContainer object of 5 artists>)"
      ]
     },
     "execution_count": 6,
     "metadata": {},
     "output_type": "execute_result"
    },
    {
     "data": {
      "image/png": "[encoded data removed]",
      "text/plain": [
       "<Figure size 640x480 with 1 Axes>"
      ]
     },
     "metadata": {},
     "output_type": "display_data"
    }
   ],
   "source": [
    "plt.hist(v_dis, bins=5)"
   ]
  },
  {
   "cell_type": "code",
   "execution_count": 7,
   "id": "74d32d78",
   "metadata": {},
   "outputs": [],
   "source": [
    "## ln~𝑔 = 0.02 + 0.02~𝜖 + ~𝜈\n",
    "## Stochastic Discount Factor\n",
    "def cal_vol_ratio(num_samples, r_range, m, s, pi, phi,\\\n",
    "                  delta=0.99, m_c=0, s_c=1):\n",
    "    result = []\n",
    "   \n",
    "    e_norm = np.random.normal(m_c, s_c, num_samples)\n",
    "    v_uni = np.random.random(num_samples)\n",
    "    v_dis = np.where(v_uni > pi, 0, np.log(phi))\n",
    "    \n",
    "    # ln~𝑔 = 0.02 + 0.02~𝜖 + ~𝜈    \n",
    "    ln_g = m + s * e_norm + v_dis\n",
    "    for r_value in r_range:\n",
    "        M = delta * np.power(np.exp(ln_g), -r_value)\n",
    "\n",
    "        std_M = np.std(M)\n",
    "        mu_M = np.mean(M)\n",
    "        vol_ratio = std_M / mu_M\n",
    "        \n",
    "        result.append([r_value, vol_ratio, mu_M, std_M])\n",
    "    result = pd.DataFrame(result, columns = ['γ', 'σM/μM', 'μM', 'σM'])\n",
    "    result.set_index('γ', inplace = True)\n",
    "    return result"
   ]
  },
  {
   "cell_type": "code",
   "execution_count": 8,
   "id": "b59d215c",
   "metadata": {},
   "outputs": [],
   "source": [
    "r = np.arange(1, 4.1, 0.1)\n",
    "num_s = int(1e5)\n",
    "vol_r = cal_vol_ratio(num_s, r, 0.02, 0.02, 0.017, 0.65, 0.99, 0, 1)\n",
    "n = 0\n",
    "while vol_r.iloc[-8, 0] < 0.4:\n",
    "    n+=1\n",
    "    vol_r = cal_vol_ratio(num_s, r, 0.02, 0.02, 0.017, 0.65, 0.99, 0, 1)\n",
    "    if n == 100:\n",
    "        break"
   ]
  },
  {
   "cell_type": "code",
   "execution_count": 9,
   "id": "a63bc4b7",
   "metadata": {},
   "outputs": [
    {
     "data": {
      "text/plain": [
       "26"
      ]
     },
     "execution_count": 9,
     "metadata": {},
     "output_type": "execute_result"
    }
   ],
   "source": [
    "n"
   ]
  },
  {
   "cell_type": "code",
   "execution_count": 10,
   "id": "a78ae836",
   "metadata": {
    "scrolled": false
   },
   "outputs": [
    {
     "data": {
      "text/html": [
       "<div>\n",
       "<style scoped>\n",
       "    .dataframe tbody tr th:only-of-type {\n",
       "        vertical-align: middle;\n",
       "    }\n",
       "\n",
       "    .dataframe tbody tr th {\n",
       "        vertical-align: top;\n",
       "    }\n",
       "\n",
       "    .dataframe thead th {\n",
       "        text-align: right;\n",
       "    }\n",
       "</style>\n",
       "<table border=\"1\" class=\"dataframe\">\n",
       "  <thead>\n",
       "    <tr style=\"text-align: right;\">\n",
       "      <th></th>\n",
       "      <th>σM/μM</th>\n",
       "      <th>μM</th>\n",
       "      <th>σM</th>\n",
       "    </tr>\n",
       "    <tr>\n",
       "      <th>γ</th>\n",
       "      <th></th>\n",
       "      <th></th>\n",
       "      <th></th>\n",
       "    </tr>\n",
       "  </thead>\n",
       "  <tbody>\n",
       "    <tr>\n",
       "      <th>1.0</th>\n",
       "      <td>0.073304</td>\n",
       "      <td>0.979831</td>\n",
       "      <td>0.071825</td>\n",
       "    </tr>\n",
       "    <tr>\n",
       "      <th>1.1</th>\n",
       "      <td>0.082300</td>\n",
       "      <td>0.979076</td>\n",
       "      <td>0.080578</td>\n",
       "    </tr>\n",
       "    <tr>\n",
       "      <th>1.2</th>\n",
       "      <td>0.091651</td>\n",
       "      <td>0.978375</td>\n",
       "      <td>0.089669</td>\n",
       "    </tr>\n",
       "    <tr>\n",
       "      <th>1.3</th>\n",
       "      <td>0.101373</td>\n",
       "      <td>0.977730</td>\n",
       "      <td>0.099115</td>\n",
       "    </tr>\n",
       "    <tr>\n",
       "      <th>1.4</th>\n",
       "      <td>0.111479</td>\n",
       "      <td>0.977144</td>\n",
       "      <td>0.108931</td>\n",
       "    </tr>\n",
       "    <tr>\n",
       "      <th>1.5</th>\n",
       "      <td>0.121987</td>\n",
       "      <td>0.976618</td>\n",
       "      <td>0.119134</td>\n",
       "    </tr>\n",
       "    <tr>\n",
       "      <th>1.6</th>\n",
       "      <td>0.132911</td>\n",
       "      <td>0.976155</td>\n",
       "      <td>0.129742</td>\n",
       "    </tr>\n",
       "    <tr>\n",
       "      <th>1.7</th>\n",
       "      <td>0.144269</td>\n",
       "      <td>0.975757</td>\n",
       "      <td>0.140771</td>\n",
       "    </tr>\n",
       "    <tr>\n",
       "      <th>1.8</th>\n",
       "      <td>0.156077</td>\n",
       "      <td>0.975426</td>\n",
       "      <td>0.152241</td>\n",
       "    </tr>\n",
       "    <tr>\n",
       "      <th>1.9</th>\n",
       "      <td>0.168353</td>\n",
       "      <td>0.975166</td>\n",
       "      <td>0.164172</td>\n",
       "    </tr>\n",
       "    <tr>\n",
       "      <th>2.0</th>\n",
       "      <td>0.181115</td>\n",
       "      <td>0.974978</td>\n",
       "      <td>0.176583</td>\n",
       "    </tr>\n",
       "    <tr>\n",
       "      <th>2.1</th>\n",
       "      <td>0.194383</td>\n",
       "      <td>0.974865</td>\n",
       "      <td>0.189497</td>\n",
       "    </tr>\n",
       "    <tr>\n",
       "      <th>2.2</th>\n",
       "      <td>0.208174</td>\n",
       "      <td>0.974831</td>\n",
       "      <td>0.202934</td>\n",
       "    </tr>\n",
       "    <tr>\n",
       "      <th>2.3</th>\n",
       "      <td>0.222509</td>\n",
       "      <td>0.974877</td>\n",
       "      <td>0.216919</td>\n",
       "    </tr>\n",
       "    <tr>\n",
       "      <th>2.4</th>\n",
       "      <td>0.237408</td>\n",
       "      <td>0.975008</td>\n",
       "      <td>0.231475</td>\n",
       "    </tr>\n",
       "    <tr>\n",
       "      <th>2.5</th>\n",
       "      <td>0.252891</td>\n",
       "      <td>0.975226</td>\n",
       "      <td>0.246626</td>\n",
       "    </tr>\n",
       "    <tr>\n",
       "      <th>2.6</th>\n",
       "      <td>0.268981</td>\n",
       "      <td>0.975535</td>\n",
       "      <td>0.262400</td>\n",
       "    </tr>\n",
       "    <tr>\n",
       "      <th>2.7</th>\n",
       "      <td>0.285697</td>\n",
       "      <td>0.975939</td>\n",
       "      <td>0.278823</td>\n",
       "    </tr>\n",
       "    <tr>\n",
       "      <th>2.8</th>\n",
       "      <td>0.303064</td>\n",
       "      <td>0.976441</td>\n",
       "      <td>0.295924</td>\n",
       "    </tr>\n",
       "    <tr>\n",
       "      <th>2.9</th>\n",
       "      <td>0.321103</td>\n",
       "      <td>0.977044</td>\n",
       "      <td>0.313732</td>\n",
       "    </tr>\n",
       "    <tr>\n",
       "      <th>3.0</th>\n",
       "      <td>0.339838</td>\n",
       "      <td>0.977754</td>\n",
       "      <td>0.332277</td>\n",
       "    </tr>\n",
       "    <tr>\n",
       "      <th>3.1</th>\n",
       "      <td>0.359291</td>\n",
       "      <td>0.978573</td>\n",
       "      <td>0.351593</td>\n",
       "    </tr>\n",
       "    <tr>\n",
       "      <th>3.2</th>\n",
       "      <td>0.379489</td>\n",
       "      <td>0.979507</td>\n",
       "      <td>0.371712</td>\n",
       "    </tr>\n",
       "    <tr>\n",
       "      <th>3.3</th>\n",
       "      <td>0.400453</td>\n",
       "      <td>0.980559</td>\n",
       "      <td>0.392668</td>\n",
       "    </tr>\n",
       "    <tr>\n",
       "      <th>3.4</th>\n",
       "      <td>0.422211</td>\n",
       "      <td>0.981736</td>\n",
       "      <td>0.414500</td>\n",
       "    </tr>\n",
       "    <tr>\n",
       "      <th>3.5</th>\n",
       "      <td>0.444786</td>\n",
       "      <td>0.983041</td>\n",
       "      <td>0.437243</td>\n",
       "    </tr>\n",
       "    <tr>\n",
       "      <th>3.6</th>\n",
       "      <td>0.468205</td>\n",
       "      <td>0.984479</td>\n",
       "      <td>0.460938</td>\n",
       "    </tr>\n",
       "    <tr>\n",
       "      <th>3.7</th>\n",
       "      <td>0.492493</td>\n",
       "      <td>0.986057</td>\n",
       "      <td>0.485626</td>\n",
       "    </tr>\n",
       "    <tr>\n",
       "      <th>3.8</th>\n",
       "      <td>0.517676</td>\n",
       "      <td>0.987779</td>\n",
       "      <td>0.511349</td>\n",
       "    </tr>\n",
       "    <tr>\n",
       "      <th>3.9</th>\n",
       "      <td>0.543780</td>\n",
       "      <td>0.989651</td>\n",
       "      <td>0.538153</td>\n",
       "    </tr>\n",
       "    <tr>\n",
       "      <th>4.0</th>\n",
       "      <td>0.570833</td>\n",
       "      <td>0.991680</td>\n",
       "      <td>0.566084</td>\n",
       "    </tr>\n",
       "  </tbody>\n",
       "</table>\n",
       "</div>"
      ],
      "text/plain": [
       "        σM/μM        μM        σM\n",
       "γ                                \n",
       "1.0  0.073304  0.979831  0.071825\n",
       "1.1  0.082300  0.979076  0.080578\n",
       "1.2  0.091651  0.978375  0.089669\n",
       "1.3  0.101373  0.977730  0.099115\n",
       "1.4  0.111479  0.977144  0.108931\n",
       "1.5  0.121987  0.976618  0.119134\n",
       "1.6  0.132911  0.976155  0.129742\n",
       "1.7  0.144269  0.975757  0.140771\n",
       "1.8  0.156077  0.975426  0.152241\n",
       "1.9  0.168353  0.975166  0.164172\n",
       "2.0  0.181115  0.974978  0.176583\n",
       "2.1  0.194383  0.974865  0.189497\n",
       "2.2  0.208174  0.974831  0.202934\n",
       "2.3  0.222509  0.974877  0.216919\n",
       "2.4  0.237408  0.975008  0.231475\n",
       "2.5  0.252891  0.975226  0.246626\n",
       "2.6  0.268981  0.975535  0.262400\n",
       "2.7  0.285697  0.975939  0.278823\n",
       "2.8  0.303064  0.976441  0.295924\n",
       "2.9  0.321103  0.977044  0.313732\n",
       "3.0  0.339838  0.977754  0.332277\n",
       "3.1  0.359291  0.978573  0.351593\n",
       "3.2  0.379489  0.979507  0.371712\n",
       "3.3  0.400453  0.980559  0.392668\n",
       "3.4  0.422211  0.981736  0.414500\n",
       "3.5  0.444786  0.983041  0.437243\n",
       "3.6  0.468205  0.984479  0.460938\n",
       "3.7  0.492493  0.986057  0.485626\n",
       "3.8  0.517676  0.987779  0.511349\n",
       "3.9  0.543780  0.989651  0.538153\n",
       "4.0  0.570833  0.991680  0.566084"
      ]
     },
     "execution_count": 10,
     "metadata": {},
     "output_type": "execute_result"
    }
   ],
   "source": [
    "vol_r.index = vol_r.index.round(4)\n",
    "vol_r"
   ]
  },
  {
   "cell_type": "code",
   "execution_count": 11,
   "id": "37952376",
   "metadata": {},
   "outputs": [],
   "source": [
    "def plot_vol_ratio(df_vol_r, num_samples):\n",
    "    X = df_vol_r.index\n",
    "    Y = df_vol_r['σM/μM']\n",
    "    # Create a scatter plot with lines\n",
    "    plt.plot(X, Y, color='blue', marker='o', label='Data Points', linestyle='-')\n",
    "    plt.axhline(0.4, color='red', linestyle='--', label='Horizontal Line at y=0.4')\n",
    "    plt.axvline(3.3, color='red', linestyle='--', label='Horizontal Line at y=0.4')\n",
    "    # Add labels and a title\n",
    "    plt.xlabel('γ values')\n",
    "    plt.ylabel('σM/μM')\n",
    "    plt.title('Volitality Ratio Simulation')\n",
    "    # Set the tick locations and labels for the x-axis\n",
    "    plt.xticks(X, rotation=90)\n",
    "    # Add a legend\n",
    "    plt.legend(labels=[f'{int(num_samples):.1e} random draws'])\n",
    "\n",
    "    # Save the figure as a PNG file\n",
    "    plt.savefig('Volitality Ratio Simulation.png')\n",
    "\n",
    "    plt.show()    \n",
    "    return"
   ]
  },
  {
   "cell_type": "markdown",
   "id": "847cd049",
   "metadata": {},
   "source": [
    "> ### Question 1: Volitality Ratio Simulation"
   ]
  },
  {
   "cell_type": "markdown",
   "id": "f7a0d08b",
   "metadata": {},
   "source": [
    "#### Q1.1 plot σM/μM (on the vertical axis) vs γ (on the horizontal axis)."
   ]
  },
  {
   "cell_type": "code",
   "execution_count": 12,
   "id": "6d43e13e",
   "metadata": {},
   "outputs": [
    {
     "data": {
      "image/png": "[encoded data removed]",
      "text/plain": [
       "<Figure size 640x480 with 1 Axes>"
      ]
     },
     "metadata": {},
     "output_type": "display_data"
    }
   ],
   "source": [
    "plot_vol_ratio(vol_r, num_s)"
   ]
  },
  {
   "cell_type": "markdown",
   "id": "22f911c0",
   "metadata": {},
   "source": [
    "#### Q1.2 Find the smallest value of γ (in your data) for which σM/μM > 0.4."
   ]
  },
  {
   "cell_type": "code",
   "execution_count": 13,
   "id": "da58ddfc",
   "metadata": {},
   "outputs": [
    {
     "data": {
      "text/plain": [
       "3.3"
      ]
     },
     "execution_count": 13,
     "metadata": {},
     "output_type": "execute_result"
    }
   ],
   "source": [
    "(vol_r.loc[vol_r['σM/μM']>0.4].index[0])"
   ]
  },
  {
   "cell_type": "markdown",
   "id": "7082d430",
   "metadata": {},
   "source": [
    "#### Q1.3 economic significance of this result"
   ]
  },
  {
   "cell_type": "code",
   "execution_count": null,
   "id": "95f6c5f8",
   "metadata": {},
   "outputs": [],
   "source": []
  },
  {
   "cell_type": "code",
   "execution_count": null,
   "id": "df3b670c",
   "metadata": {},
   "outputs": [],
   "source": []
  },
  {
   "cell_type": "code",
   "execution_count": null,
   "id": "5f54815e",
   "metadata": {},
   "outputs": [],
   "source": []
  },
  {
   "cell_type": "code",
   "execution_count": null,
   "id": "2fe09f87",
   "metadata": {},
   "outputs": [],
   "source": []
  },
  {
   "cell_type": "code",
   "execution_count": null,
   "id": "80f23257",
   "metadata": {},
   "outputs": [],
   "source": []
  },
  {
   "cell_type": "code",
   "execution_count": null,
   "id": "cde05f23",
   "metadata": {},
   "outputs": [],
   "source": []
  },
  {
   "cell_type": "code",
   "execution_count": null,
   "id": "3edd8e91",
   "metadata": {},
   "outputs": [],
   "source": []
  },
  {
   "cell_type": "code",
   "execution_count": null,
   "id": "9308ef25",
   "metadata": {},
   "outputs": [],
   "source": []
  },
  {
   "cell_type": "code",
   "execution_count": null,
   "id": "3a438781",
   "metadata": {},
   "outputs": [],
   "source": []
  },
  {
   "cell_type": "code",
   "execution_count": null,
   "id": "bf061d58",
   "metadata": {},
   "outputs": [],
   "source": []
  },
  {
   "cell_type": "code",
   "execution_count": null,
   "id": "b8d1f158",
   "metadata": {},
   "outputs": [],
   "source": []
  },
  {
   "cell_type": "code",
   "execution_count": null,
   "id": "13a2979a",
   "metadata": {},
   "outputs": [],
   "source": []
  },
  {
   "cell_type": "code",
   "execution_count": null,
   "id": "64e42c1b",
   "metadata": {},
   "outputs": [],
   "source": []
  },
  {
   "cell_type": "code",
   "execution_count": null,
   "id": "006375a2",
   "metadata": {},
   "outputs": [],
   "source": []
  },
  {
   "cell_type": "code",
   "execution_count": null,
   "id": "e1982655",
   "metadata": {},
   "outputs": [],
   "source": []
  },
  {
   "cell_type": "code",
   "execution_count": null,
   "id": "04b3020e",
   "metadata": {},
   "outputs": [],
   "source": []
  },
  {
   "cell_type": "code",
   "execution_count": null,
   "id": "cdbf7721",
   "metadata": {},
   "outputs": [],
   "source": []
  },
  {
   "cell_type": "code",
   "execution_count": null,
   "id": "0e24a824",
   "metadata": {},
   "outputs": [],
   "source": []
  },
  {
   "cell_type": "code",
   "execution_count": null,
   "id": "7e58b7a1",
   "metadata": {},
   "outputs": [],
   "source": []
  },
  {
   "cell_type": "code",
   "execution_count": null,
   "id": "326fdfde",
   "metadata": {},
   "outputs": [],
   "source": []
  },
  {
   "cell_type": "code",
   "execution_count": null,
   "id": "a6c26eb9",
   "metadata": {},
   "outputs": [],
   "source": []
  },
  {
   "cell_type": "code",
   "execution_count": null,
   "id": "50dd5fad",
   "metadata": {},
   "outputs": [],
   "source": []
  },
  {
   "cell_type": "code",
   "execution_count": null,
   "id": "98daef65",
   "metadata": {},
   "outputs": [],
   "source": []
  },
  {
   "cell_type": "markdown",
   "id": "de8d8bb5",
   "metadata": {},
   "source": [
    "## QF 600 Asset Pricing | `Homework 5` | YU Lingfeng\n",
    "## Stochastic Discount Factor | Submission 2"
   ]
  },
  {
   "cell_type": "markdown",
   "id": "536bdd09",
   "metadata": {},
   "source": [
    "> ### Question 1: Volitality Ratio Simulation"
   ]
  },
  {
   "cell_type": "markdown",
   "id": "ace64008",
   "metadata": {},
   "source": [
    "#### Q1.1 plot σM/μM (on the vertical axis) vs γ (on the horizontal axis)."
   ]
  },
  {
   "cell_type": "code",
   "execution_count": 17,
   "id": "813bade0",
   "metadata": {},
   "outputs": [
    {
     "data": {
      "text/html": [
       "<div>\n",
       "<style scoped>\n",
       "    .dataframe tbody tr th:only-of-type {\n",
       "        vertical-align: middle;\n",
       "    }\n",
       "\n",
       "    .dataframe tbody tr th {\n",
       "        vertical-align: top;\n",
       "    }\n",
       "\n",
       "    .dataframe thead th {\n",
       "        text-align: right;\n",
       "    }\n",
       "</style>\n",
       "<table border=\"1\" class=\"dataframe\">\n",
       "  <thead>\n",
       "    <tr style=\"text-align: right;\">\n",
       "      <th></th>\n",
       "      <th>σM/μM</th>\n",
       "      <th>μM</th>\n",
       "      <th>σM</th>\n",
       "    </tr>\n",
       "    <tr>\n",
       "      <th>γ</th>\n",
       "      <th></th>\n",
       "      <th></th>\n",
       "      <th></th>\n",
       "    </tr>\n",
       "  </thead>\n",
       "  <tbody>\n",
       "    <tr>\n",
       "      <th>1.0</th>\n",
       "      <td>0.073304</td>\n",
       "      <td>0.979831</td>\n",
       "      <td>0.071825</td>\n",
       "    </tr>\n",
       "    <tr>\n",
       "      <th>1.1</th>\n",
       "      <td>0.082300</td>\n",
       "      <td>0.979076</td>\n",
       "      <td>0.080578</td>\n",
       "    </tr>\n",
       "    <tr>\n",
       "      <th>1.2</th>\n",
       "      <td>0.091651</td>\n",
       "      <td>0.978375</td>\n",
       "      <td>0.089669</td>\n",
       "    </tr>\n",
       "    <tr>\n",
       "      <th>1.3</th>\n",
       "      <td>0.101373</td>\n",
       "      <td>0.977730</td>\n",
       "      <td>0.099115</td>\n",
       "    </tr>\n",
       "    <tr>\n",
       "      <th>1.4</th>\n",
       "      <td>0.111479</td>\n",
       "      <td>0.977144</td>\n",
       "      <td>0.108931</td>\n",
       "    </tr>\n",
       "    <tr>\n",
       "      <th>1.5</th>\n",
       "      <td>0.121987</td>\n",
       "      <td>0.976618</td>\n",
       "      <td>0.119134</td>\n",
       "    </tr>\n",
       "    <tr>\n",
       "      <th>1.6</th>\n",
       "      <td>0.132911</td>\n",
       "      <td>0.976155</td>\n",
       "      <td>0.129742</td>\n",
       "    </tr>\n",
       "    <tr>\n",
       "      <th>1.7</th>\n",
       "      <td>0.144269</td>\n",
       "      <td>0.975757</td>\n",
       "      <td>0.140771</td>\n",
       "    </tr>\n",
       "    <tr>\n",
       "      <th>1.8</th>\n",
       "      <td>0.156077</td>\n",
       "      <td>0.975426</td>\n",
       "      <td>0.152241</td>\n",
       "    </tr>\n",
       "    <tr>\n",
       "      <th>1.9</th>\n",
       "      <td>0.168353</td>\n",
       "      <td>0.975166</td>\n",
       "      <td>0.164172</td>\n",
       "    </tr>\n",
       "    <tr>\n",
       "      <th>2.0</th>\n",
       "      <td>0.181115</td>\n",
       "      <td>0.974978</td>\n",
       "      <td>0.176583</td>\n",
       "    </tr>\n",
       "    <tr>\n",
       "      <th>2.1</th>\n",
       "      <td>0.194383</td>\n",
       "      <td>0.974865</td>\n",
       "      <td>0.189497</td>\n",
       "    </tr>\n",
       "    <tr>\n",
       "      <th>2.2</th>\n",
       "      <td>0.208174</td>\n",
       "      <td>0.974831</td>\n",
       "      <td>0.202934</td>\n",
       "    </tr>\n",
       "    <tr>\n",
       "      <th>2.3</th>\n",
       "      <td>0.222509</td>\n",
       "      <td>0.974877</td>\n",
       "      <td>0.216919</td>\n",
       "    </tr>\n",
       "    <tr>\n",
       "      <th>2.4</th>\n",
       "      <td>0.237408</td>\n",
       "      <td>0.975008</td>\n",
       "      <td>0.231475</td>\n",
       "    </tr>\n",
       "    <tr>\n",
       "      <th>2.5</th>\n",
       "      <td>0.252891</td>\n",
       "      <td>0.975226</td>\n",
       "      <td>0.246626</td>\n",
       "    </tr>\n",
       "    <tr>\n",
       "      <th>2.6</th>\n",
       "      <td>0.268981</td>\n",
       "      <td>0.975535</td>\n",
       "      <td>0.262400</td>\n",
       "    </tr>\n",
       "    <tr>\n",
       "      <th>2.7</th>\n",
       "      <td>0.285697</td>\n",
       "      <td>0.975939</td>\n",
       "      <td>0.278823</td>\n",
       "    </tr>\n",
       "    <tr>\n",
       "      <th>2.8</th>\n",
       "      <td>0.303064</td>\n",
       "      <td>0.976441</td>\n",
       "      <td>0.295924</td>\n",
       "    </tr>\n",
       "    <tr>\n",
       "      <th>2.9</th>\n",
       "      <td>0.321103</td>\n",
       "      <td>0.977044</td>\n",
       "      <td>0.313732</td>\n",
       "    </tr>\n",
       "    <tr>\n",
       "      <th>3.0</th>\n",
       "      <td>0.339838</td>\n",
       "      <td>0.977754</td>\n",
       "      <td>0.332277</td>\n",
       "    </tr>\n",
       "    <tr>\n",
       "      <th>3.1</th>\n",
       "      <td>0.359291</td>\n",
       "      <td>0.978573</td>\n",
       "      <td>0.351593</td>\n",
       "    </tr>\n",
       "    <tr>\n",
       "      <th>3.2</th>\n",
       "      <td>0.379489</td>\n",
       "      <td>0.979507</td>\n",
       "      <td>0.371712</td>\n",
       "    </tr>\n",
       "    <tr>\n",
       "      <th>3.3</th>\n",
       "      <td>0.400453</td>\n",
       "      <td>0.980559</td>\n",
       "      <td>0.392668</td>\n",
       "    </tr>\n",
       "    <tr>\n",
       "      <th>3.4</th>\n",
       "      <td>0.422211</td>\n",
       "      <td>0.981736</td>\n",
       "      <td>0.414500</td>\n",
       "    </tr>\n",
       "    <tr>\n",
       "      <th>3.5</th>\n",
       "      <td>0.444786</td>\n",
       "      <td>0.983041</td>\n",
       "      <td>0.437243</td>\n",
       "    </tr>\n",
       "    <tr>\n",
       "      <th>3.6</th>\n",
       "      <td>0.468205</td>\n",
       "      <td>0.984479</td>\n",
       "      <td>0.460938</td>\n",
       "    </tr>\n",
       "    <tr>\n",
       "      <th>3.7</th>\n",
       "      <td>0.492493</td>\n",
       "      <td>0.986057</td>\n",
       "      <td>0.485626</td>\n",
       "    </tr>\n",
       "    <tr>\n",
       "      <th>3.8</th>\n",
       "      <td>0.517676</td>\n",
       "      <td>0.987779</td>\n",
       "      <td>0.511349</td>\n",
       "    </tr>\n",
       "    <tr>\n",
       "      <th>3.9</th>\n",
       "      <td>0.543780</td>\n",
       "      <td>0.989651</td>\n",
       "      <td>0.538153</td>\n",
       "    </tr>\n",
       "    <tr>\n",
       "      <th>4.0</th>\n",
       "      <td>0.570833</td>\n",
       "      <td>0.991680</td>\n",
       "      <td>0.566084</td>\n",
       "    </tr>\n",
       "  </tbody>\n",
       "</table>\n",
       "</div>"
      ],
      "text/plain": [
       "        σM/μM        μM        σM\n",
       "γ                                \n",
       "1.0  0.073304  0.979831  0.071825\n",
       "1.1  0.082300  0.979076  0.080578\n",
       "1.2  0.091651  0.978375  0.089669\n",
       "1.3  0.101373  0.977730  0.099115\n",
       "1.4  0.111479  0.977144  0.108931\n",
       "1.5  0.121987  0.976618  0.119134\n",
       "1.6  0.132911  0.976155  0.129742\n",
       "1.7  0.144269  0.975757  0.140771\n",
       "1.8  0.156077  0.975426  0.152241\n",
       "1.9  0.168353  0.975166  0.164172\n",
       "2.0  0.181115  0.974978  0.176583\n",
       "2.1  0.194383  0.974865  0.189497\n",
       "2.2  0.208174  0.974831  0.202934\n",
       "2.3  0.222509  0.974877  0.216919\n",
       "2.4  0.237408  0.975008  0.231475\n",
       "2.5  0.252891  0.975226  0.246626\n",
       "2.6  0.268981  0.975535  0.262400\n",
       "2.7  0.285697  0.975939  0.278823\n",
       "2.8  0.303064  0.976441  0.295924\n",
       "2.9  0.321103  0.977044  0.313732\n",
       "3.0  0.339838  0.977754  0.332277\n",
       "3.1  0.359291  0.978573  0.351593\n",
       "3.2  0.379489  0.979507  0.371712\n",
       "3.3  0.400453  0.980559  0.392668\n",
       "3.4  0.422211  0.981736  0.414500\n",
       "3.5  0.444786  0.983041  0.437243\n",
       "3.6  0.468205  0.984479  0.460938\n",
       "3.7  0.492493  0.986057  0.485626\n",
       "3.8  0.517676  0.987779  0.511349\n",
       "3.9  0.543780  0.989651  0.538153\n",
       "4.0  0.570833  0.991680  0.566084"
      ]
     },
     "execution_count": 17,
     "metadata": {},
     "output_type": "execute_result"
    }
   ],
   "source": [
    "vol_r"
   ]
  },
  {
   "cell_type": "code",
   "execution_count": 14,
   "id": "783918eb",
   "metadata": {
    "scrolled": false
   },
   "outputs": [
    {
     "data": {
      "image/png": "[encoded data removed]",
      "text/plain": [
       "<IPython.core.display.Image object>"
      ]
     },
     "execution_count": 14,
     "metadata": {},
     "output_type": "execute_result"
    }
   ],
   "source": [
    "Image('Volitality Ratio Simulation.png')"
   ]
  },
  {
   "cell_type": "markdown",
   "id": "63e43b7e",
   "metadata": {},
   "source": [
    "#### Q1.2 Find the smallest value of γ (in your data) for which σM/μM > 0.4."
   ]
  },
  {
   "cell_type": "code",
   "execution_count": 15,
   "id": "a2a0781b",
   "metadata": {},
   "outputs": [
    {
     "data": {
      "text/plain": [
       "3.3"
      ]
     },
     "execution_count": 15,
     "metadata": {},
     "output_type": "execute_result"
    }
   ],
   "source": [
    "(vol_r.loc[vol_r['σM/μM']>0.4].index[0])"
   ]
  },
  {
   "cell_type": "markdown",
   "id": "4e498b3c",
   "metadata": {},
   "source": [
    "#### Q1.3 economic significance of this result"
   ]
  },
  {
   "cell_type": "markdown",
   "id": "1ba0d7d4",
   "metadata": {},
   "source": [
    "#### Ans:"
   ]
  },
  {
   "cell_type": "markdown",
   "id": "87fc1dfe",
   "metadata": {},
   "source": [
    "#### 1. γ comes from the power Utility functions we choose. In power Utility, investors will have a Constant Relative Risk Aversion. Higer γ means higher degree of (relative) risk aversion. \n",
    "#### 2. σ_M/μ_M is the volitality ratio that measures the relative volitality of pricing kernel in a Consumption Capital Asset Pricing Model (CAPM). The pricing kernel in Consumption CAPM is a stochastic discount factor that reflects how investors discount future consumption. It essentially measures the relative preferences of investors for consumption today versus consumption in the future. It quantifies how much compensation investors require for bearing the uncertainty (volatility) associated with their preferences for future consumption. A higher volatility ratio implies that investors demand a higher risk premium to exchange consumption today for uncertain consumption in the future.\n",
    "#### 3. The volitality ratio of pricing kerne shall have a lower bound of highest Sharpe ratio out of all possible portfolios. While the pricing kernel has lower limit of zero but no upper limit. This implies the pricing kernel heavily skewed to the right side.\n",
    "#### 4. Based on historical US market data, the stock market has a Sharpe ratio of around 0.4, so volitality ratio of pricing kernel is at least 40%, which indicates high volitality on pricing kernel. A primary estimation on the γ value is more than 20, which is unreasonably high. The power utility functions becomes \"L\" shape.\n",
    "#### 5. With the skewness character, we may reasonably guess the investor’s optimal consumption growth has lognormal distribution. After inserting in the Rare Disasters component, the γ is simulated to be 3.3-3.4 based on my simulation. And this becomes more reasonable in real life."
   ]
  }
 ],
 "metadata": {
  "kernelspec": {
   "display_name": "Python 3 (ipykernel)",
   "language": "python",
   "name": "python3"
  },
  "language_info": {
   "codemirror_mode": {
    "name": "ipython",
    "version": 3
   },
   "file_extension": ".py",
   "mimetype": "text/x-python",
   "name": "python",
   "nbconvert_exporter": "python",
   "pygments_lexer": "ipython3",
   "version": "3.11.3"
  }
 },
 "nbformat": 4,
 "nbformat_minor": 5
}
